{
 "cells": [
  {
   "cell_type": "code",
   "execution_count": 3,
   "metadata": {},
   "outputs": [
    {
     "name": "stdout",
     "output_type": "stream",
     "text": [
      "[('Detroit', 680250, 'MI'), ('Ann Arbor', 117070, 'MI'), ('Pittsburgh', 304391, 'PA'), ('Mars', 1683, 'PA'), ('New York', 8406000, 'NY')]\n"
     ]
    }
   ],
   "source": [
    "# Data\n",
    "cityNames = ['Detroit', 'Ann Arbor', 'Pittsburgh', 'Mars', 'New York']\n",
    "populations = [680250, 117070, 304391, 1683, 8406000]\n",
    "states = ['MI', 'MI', 'PA', 'PA', 'NY']\n",
    "\n",
    "city_tuples = list(zip(cityNames, populations, states))\n",
    "print(city_tuples)"
   ]
  },
  {
   "cell_type": "code",
   "execution_count": 4,
   "metadata": {},
   "outputs": [
    {
     "name": "stdout",
     "output_type": "stream",
     "text": [
      "[('Detroit', 680250, 'MI'), ('Ann Arbor', 117070, 'MI'), ('Pittsburgh', 304391, 'PA'), ('Mars', 1683, 'PA'), ('New York', 8406000, 'NY')]\n",
      "('Detroit', 680250, 'MI')\n",
      "('Ann Arbor', 117070, 'MI')\n",
      "('Pittsburgh', 304391, 'PA')\n",
      "('Mars', 1683, 'PA')\n",
      "('New York', 8406000, 'NY')\n"
     ]
    }
   ],
   "source": [
    "# Data\n",
    "cityNames = ['Detroit', 'Ann Arbor', 'Pittsburgh', 'Mars', 'New York']\n",
    "populations = [680250, 117070, 304391, 1683, 8406000]\n",
    "states = ['MI', 'MI', 'PA', 'PA', 'NY']\n",
    "\n",
    "city_tuples = list(zip(cityNames, populations, states))\n",
    "print(city_tuples)\n",
    "\n",
    "class City:\n",
    "    \n",
    "    def __init__(self, n, p, s):   # Constructor accepts name, population, and state\n",
    "        self. name = n\n",
    "        self.population = p\n",
    "        self.state = s\n",
    "        \n",
    "    def __str__(self):   # Use str method\n",
    "        return '{}, {} (pop:{})'.format(self.name, self.state, self.population)\n",
    "    \n",
    "cities = []\n",
    "\n",
    "for city_tup in city_tuples:\n",
    "    print(city_tup)   "
   ]
  },
  {
   "cell_type": "code",
   "execution_count": 6,
   "metadata": {},
   "outputs": [
    {
     "name": "stdout",
     "output_type": "stream",
     "text": [
      "[('Detroit', 680250, 'MI'), ('Ann Arbor', 117070, 'MI'), ('Pittsburgh', 304391, 'PA'), ('Mars', 1683, 'PA'), ('New York', 8406000, 'NY')]\n",
      "Detroit 680250 MI\n",
      "Ann Arbor 117070 MI\n",
      "Pittsburgh 304391 PA\n",
      "Mars 1683 PA\n",
      "New York 8406000 NY\n"
     ]
    }
   ],
   "source": [
    "# Version # 2\n",
    "\n",
    "# Data\n",
    "cityNames = ['Detroit', 'Ann Arbor', 'Pittsburgh', 'Mars', 'New York']\n",
    "populations = [680250, 117070, 304391, 1683, 8406000]\n",
    "states = ['MI', 'MI', 'PA', 'PA', 'NY']\n",
    "\n",
    "city_tuples = list(zip(cityNames, populations, states))\n",
    "print(city_tuples)\n",
    "\n",
    "class City:\n",
    "    \n",
    "    def __init__(self, n, p, s):\n",
    "        self. name = n\n",
    "        self.population = p\n",
    "        self.state = s\n",
    "        \n",
    "    def __str__(self):\n",
    "        return '{}, {} (pop:{})'.format(self.name, self.state, self.population)\n",
    "    \n",
    "\n",
    "for city_tup in city_tuples:\n",
    "    name, pop, state = city_tup\n",
    "    print(name, pop, state)\n"
   ]
  },
  {
   "cell_type": "code",
   "execution_count": 8,
   "metadata": {},
   "outputs": [
    {
     "name": "stdout",
     "output_type": "stream",
     "text": [
      "[('Detroit', 680250, 'MI'), ('Ann Arbor', 117070, 'MI'), ('Pittsburgh', 304391, 'PA'), ('Mars', 1683, 'PA'), ('New York', 8406000, 'NY')]\n",
      "[<__main__.City object at 0x10beb8128>, <__main__.City object at 0x10bea7cc0>, <__main__.City object at 0x10beb8160>, <__main__.City object at 0x10beb8198>, <__main__.City object at 0x10beb81d0>]\n"
     ]
    }
   ],
   "source": [
    "# Version # 3\n",
    "\n",
    "# Data\n",
    "cityNames = ['Detroit', 'Ann Arbor', 'Pittsburgh', 'Mars', 'New York']\n",
    "populations = [680250, 117070, 304391, 1683, 8406000]\n",
    "states = ['MI', 'MI', 'PA', 'PA', 'NY']\n",
    "\n",
    "city_tuples = list(zip(cityNames, populations, states))\n",
    "print(city_tuples)\n",
    "\n",
    "class City:\n",
    "    \n",
    "    def __init__(self, n, p, s):\n",
    "        self. name = n\n",
    "        self.population = p\n",
    "        self.state = s\n",
    "        \n",
    "    def __str__(self):\n",
    "        return '{}, {} (pop:{})'.format(self.name, self.state, self.population)\n",
    "    \n",
    "\n",
    "cities = []\n",
    "for city_tup in city_tuples:\n",
    "    name, pop, state = city_tup\n",
    "    city = City(name, pop, state)  # instance of the City class\n",
    "    cities.append(city)\n",
    "print(cities)"
   ]
  },
  {
   "cell_type": "code",
   "execution_count": 9,
   "metadata": {},
   "outputs": [
    {
     "name": "stdout",
     "output_type": "stream",
     "text": [
      "[('Detroit', 680250, 'MI'), ('Ann Arbor', 117070, 'MI'), ('Pittsburgh', 304391, 'PA'), ('Mars', 1683, 'PA'), ('New York', 8406000, 'NY')]\n",
      "[<__main__.City object at 0x10bea7f28>, <__main__.City object at 0x10beb80b8>, <__main__.City object at 0x10beb8208>, <__main__.City object at 0x10beb8240>, <__main__.City object at 0x10beb8278>]\n"
     ]
    }
   ],
   "source": [
    "# Version # 4\n",
    "\n",
    "# Data\n",
    "cityNames = ['Detroit', 'Ann Arbor', 'Pittsburgh', 'Mars', 'New York']\n",
    "populations = [680250, 117070, 304391, 1683, 8406000]\n",
    "states = ['MI', 'MI', 'PA', 'PA', 'NY']\n",
    "\n",
    "city_tuples = list(zip(cityNames, populations, states))\n",
    "print(city_tuples)\n",
    "\n",
    "class City:\n",
    "    \n",
    "    def __init__(self, n, p, s):\n",
    "        self. name = n\n",
    "        self.population = p\n",
    "        self.state = s\n",
    "        \n",
    "    def __str__(self):\n",
    "        return '{}, {} (pop:{})'.format(self.name, self.state, self.population)\n",
    "    \n",
    "cities = [City(n, p, s) for (n, p, s) in city_tuples]\n",
    "print(cities) # a list of city instances"
   ]
  },
  {
   "cell_type": "code",
   "execution_count": 11,
   "metadata": {},
   "outputs": [
    {
     "name": "stdout",
     "output_type": "stream",
     "text": [
      "[('Detroit', 680250, 'MI'), ('Ann Arbor', 117070, 'MI'), ('Pittsburgh', 304391, 'PA'), ('Mars', 1683, 'PA'), ('New York', 8406000, 'NY')]\n",
      "[<__main__.City object at 0x10beb8358>, <__main__.City object at 0x10beb8128>, <__main__.City object at 0x10beb8d30>, <__main__.City object at 0x10beb83c8>, <__main__.City object at 0x10beb8b00>]\n"
     ]
    }
   ],
   "source": [
    "# Version # 5\n",
    "\n",
    "# Data\n",
    "cityNames = ['Detroit', 'Ann Arbor', 'Pittsburgh', 'Mars', 'New York']\n",
    "populations = [680250, 117070, 304391, 1683, 8406000]\n",
    "states = ['MI', 'MI', 'PA', 'PA', 'NY']\n",
    "\n",
    "city_tuples = list(zip(cityNames, populations, states))\n",
    "print(city_tuples)\n",
    "\n",
    "class City:\n",
    "    \n",
    "    def __init__(self, n, p, s):\n",
    "        self. name = n\n",
    "        self.population = p\n",
    "        self.state = s\n",
    "        \n",
    "    def __str__(self):\n",
    "        return '{}, {} (pop:{})'.format(self.name, self.state, self.population)\n",
    "    \n",
    "cities = [City(*t) for t in city_tuples]  # * will expand tuple into a list of arguments\n",
    "print(cities)"
   ]
  },
  {
   "cell_type": "code",
   "execution_count": null,
   "metadata": {},
   "outputs": [],
   "source": []
  }
 ],
 "metadata": {
  "kernelspec": {
   "display_name": "Python 3",
   "language": "python",
   "name": "python3"
  },
  "language_info": {
   "codemirror_mode": {
    "name": "ipython",
    "version": 3
   },
   "file_extension": ".py",
   "mimetype": "text/x-python",
   "name": "python",
   "nbconvert_exporter": "python",
   "pygments_lexer": "ipython3",
   "version": "3.6.7"
  }
 },
 "nbformat": 4,
 "nbformat_minor": 2
}
