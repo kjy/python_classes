{
 "cells": [
  {
   "cell_type": "code",
   "execution_count": 15,
   "metadata": {},
   "outputs": [
    {
     "name": "stdout",
     "output_type": "stream",
     "text": [
      "\"The Odyssey\" by Homer\n"
     ]
    }
   ],
   "source": [
    "class Book():\n",
    "    def __init__(self, title, author):\n",
    "        self.title = title\n",
    "        self.author = author\n",
    "        \n",
    "    def __str__(self):\n",
    "        return '\"{}\" by {}'.format(self.title, self.author)\n",
    "    \n",
    "myBook = Book('The Odyssey', 'Homer')\n",
    "print(myBook)\n",
    "    "
   ]
  },
  {
   "cell_type": "code",
   "execution_count": 19,
   "metadata": {},
   "outputs": [
    {
     "name": "stdout",
     "output_type": "stream",
     "text": [
      "\"The Odyssey\" by Homer\n",
      "--------------------------------\n",
      "\"The Odyssey\" by Homer\n",
      "2\n",
      "--------------------------------\n",
      "\"The Odyssey\" by Homer\n",
      "500\n"
     ]
    }
   ],
   "source": [
    "class Book():  # Book is a superclass\n",
    "    def __init__(self, title, author):\n",
    "        self.title = title\n",
    "        self.author = author\n",
    "        \n",
    "    def __str__(self):\n",
    "        return '\"{}\" by {}'.format(self.title, self.author)\n",
    "    \n",
    "    \n",
    "class PaperBook(Book):  # PaperBook inherits from Book, it is a subclass\n",
    "    def __init__(self, title, author, numPages):\n",
    "        Book.__init__(self, title, author)\n",
    "        self.numPages = numPages\n",
    "\n",
    "        \n",
    "class EBook(Book):  # EBook inherits from Book, it is a subclass\n",
    "    def __init__(self, title, author, size):\n",
    "        Book.__init__(self, title, author)\n",
    "        self.size = size  # size in terms of megabytes\n",
    "        \n",
    "myBook = Book('The Odyssey', 'Homer')\n",
    "print(myBook)\n",
    "print(\"--------------------------------\")\n",
    "\n",
    "myEBook = EBook('The Odyssey', 'Homer', 2)\n",
    "print(myEBook)\n",
    "print(myEBook.size)\n",
    "print(\"--------------------------------\")\n",
    "\n",
    "myPaperBook = PaperBook('The Odyssey', 'Homer', 500)\n",
    "print(myPaperBook)\n",
    "print(myPaperBook.numPages)\n"
   ]
  },
  {
   "cell_type": "code",
   "execution_count": 18,
   "metadata": {},
   "outputs": [
    {
     "name": "stdout",
     "output_type": "stream",
     "text": [
      "2\n"
     ]
    }
   ],
   "source": [
    "# A library contains/composed of a list of books\n",
    "# We don't want to inherit from books\n",
    "# An example of composition\n",
    "# A library does not have everything a book has or vice versa\n",
    "\n",
    "class Book():  \n",
    "    def __init__(self, title, author):\n",
    "        self.title = title\n",
    "        self.author = author\n",
    "        \n",
    "    def __str__(self):\n",
    "        return '\"{}\" by {}'.format(self.title, self.author)\n",
    "    \n",
    "    \n",
    "class PaperBook(Book):  \n",
    "    def __init__(self, title, author, numPages):\n",
    "        Book.__init__(self, title, author)\n",
    "        self.numPages = numPages\n",
    "\n",
    "        \n",
    "class EBook(Book):  \n",
    "    def __init__(self, title, author, size):\n",
    "        Book.__init__(self, title, author)\n",
    "        self.size = size  # size in terms of megabytes\n",
    "        \n",
    "class Library:   # A library contains/composed of a list of books\n",
    "    def __init__(self):\n",
    "        self.books = []   # An example of composition\n",
    "    def addBook(self, book):\n",
    "        self.books.append(book)\n",
    "    def getNumBooks(self):\n",
    "        return len(self.books)\n",
    "    \n",
    "    \n",
    "aadl = Library()\n",
    "aadl.addBook(myBook)\n",
    "aadl.addBook(myPaperBook)\n",
    "\n",
    "print(aadl.getNumBooks())"
   ]
  },
  {
   "cell_type": "code",
   "execution_count": null,
   "metadata": {},
   "outputs": [],
   "source": []
  }
 ],
 "metadata": {
  "kernelspec": {
   "display_name": "Python 3",
   "language": "python",
   "name": "python3"
  },
  "language_info": {
   "codemirror_mode": {
    "name": "ipython",
    "version": 3
   },
   "file_extension": ".py",
   "mimetype": "text/x-python",
   "name": "python",
   "nbconvert_exporter": "python",
   "pygments_lexer": "ipython3",
   "version": "3.6.7"
  }
 },
 "nbformat": 4,
 "nbformat_minor": 2
}
