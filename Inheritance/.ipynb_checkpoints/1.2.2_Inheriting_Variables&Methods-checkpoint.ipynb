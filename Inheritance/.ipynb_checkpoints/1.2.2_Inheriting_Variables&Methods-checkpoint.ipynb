{
 "cells": [
  {
   "cell_type": "code",
   "execution_count": 4,
   "metadata": {},
   "outputs": [
    {
     "name": "stdout",
     "output_type": "stream",
     "text": [
      "Alice Smith (29)\n"
     ]
    }
   ],
   "source": [
    "# Create a Person class to represent a person with name and age\n",
    "CURRENT_YEAR = 2019\n",
    "\n",
    "class Person:\n",
    "    \n",
    "    def __init__(self, name, year_born):\n",
    "        self.name = name    # create instance variable for name\n",
    "        self.year_born = year_born  # create instance variable for year_born\n",
    "        \n",
    "    def getAge(self):   # create method that takes year_born and subtract it from current year\n",
    "        return CURRENT_YEAR - self.year_born\n",
    "    \n",
    "    def __str__(self):  # create special str method to print out result\n",
    "        return '{} ({})'.format(self.name, self.getAge())\n",
    "    \n",
    "alice = Person('Alice Smith', 1990)\n",
    "print(alice)    \n",
    "    "
   ]
  },
  {
   "cell_type": "code",
   "execution_count": 9,
   "metadata": {},
   "outputs": [
    {
     "name": "stdout",
     "output_type": "stream",
     "text": [
      "Alice Smith (29)\n"
     ]
    }
   ],
   "source": [
    "# Create a Student class that has everything that Person class has plus more, knowledge\n",
    "# Include a method called study()\n",
    "\n",
    "class Student:\n",
    "    \n",
    "    def __init__(self, name, year_born):\n",
    "        self.name = name\n",
    "        self.year_born = year_born\n",
    "        self.knowledge = 0   # create instance variable knowledge with value 0\n",
    "        \n",
    "    def study(self): \n",
    "        self.knowledge += 1  # increment by 1\n",
    "        \n",
    "    def getAge(self):\n",
    "        return CURRENT_YEAR - self.year_born\n",
    "    \n",
    "    def __str__(self):\n",
    "        return '{} ({})'.format(self.name, self.getAge())\n",
    "    \n",
    "    \n",
    "alice = Student('Alice Smith', 1990) \n",
    "print(alice)"
   ]
  },
  {
   "cell_type": "code",
   "execution_count": 10,
   "metadata": {},
   "outputs": [
    {
     "name": "stdout",
     "output_type": "stream",
     "text": [
      "0\n"
     ]
    }
   ],
   "source": [
    "class Student:\n",
    "    \n",
    "    def __init__(self, name, year_born):\n",
    "        self.name = name\n",
    "        self.year_born = year_born\n",
    "        self.knowledge = 0\n",
    "        \n",
    "    def study(self): \n",
    "        self.knowledge += 1\n",
    "        \n",
    "    def getAge(self):\n",
    "        return CURRENT_YEAR - self.year_born\n",
    "    \n",
    "    def __str__(self):\n",
    "        return '{} ({})'.format(self.name, self.getAge())\n",
    "    \n",
    "    \n",
    "alice = Student('Alice Smith', 1990) \n",
    "print(alice.knowledge)"
   ]
  },
  {
   "cell_type": "code",
   "execution_count": 11,
   "metadata": {},
   "outputs": [
    {
     "name": "stdout",
     "output_type": "stream",
     "text": [
      "1\n"
     ]
    }
   ],
   "source": [
    "class Student:\n",
    "    \n",
    "    def __init__(self, name, year_born):\n",
    "        self.name = name\n",
    "        self.year_born = year_born\n",
    "        self.knowledge = 0\n",
    "        \n",
    "    def study(self): \n",
    "        self.knowledge += 1\n",
    "        \n",
    "    def getAge(self):\n",
    "        return CURRENT_YEAR - self.year_born\n",
    "    \n",
    "    def __str__(self):\n",
    "        return '{} ({})'.format(self.name, self.getAge())\n",
    "    \n",
    "    \n",
    "alice = Student('Alice Smith', 1990) \n",
    "alice.study()\n",
    "print(alice.knowledge)"
   ]
  },
  {
   "cell_type": "code",
   "execution_count": 14,
   "metadata": {},
   "outputs": [
    {
     "name": "stdout",
     "output_type": "stream",
     "text": [
      "1\n"
     ]
    }
   ],
   "source": [
    "# Revise using inheritance. \n",
    "# Student class should have everything that Person class has plus more.\n",
    "# Student class should inherit form Person class.\n",
    "# Remove getAge() from Student class since it is already found in Person class.\n",
    "# Remove thunderscore str method since it is already found in Person class. \n",
    "\n",
    "class Student(Person):  # Every student is a person. \n",
    "    \n",
    "    def __init__(self, name, year_born):\n",
    "        #self.name = name  # remove this since it is found in Person class\n",
    "        \n",
    "        Person.__init__(self, name, year_born) # this will call def __init__(self, name, year_born): in Person class.\n",
    "        \n",
    "        #self.year_born = year_born  # remove this since it is found in Person class\n",
    "        \n",
    "        self.knowledge = 0\n",
    "        \n",
    "    def study(self): \n",
    "        self.knowledge += 1\n",
    "        \n",
    "    # def getAge(self):   # remove this as it is found in Person class\n",
    "    #    return CURRENT_YEAR - self.year_born    \n",
    "        \n",
    "    \n",
    "    # def __str__(self):  # remove this as it is found in Person class\n",
    "    #    return '{} ({})'.format(self.name, self.getAge())\n",
    "\n",
    "alice = Student('Alice Smith', 1990)\n",
    "alice.study()\n",
    "print(alice.knowledge)\n"
   ]
  },
  {
   "cell_type": "code",
   "execution_count": 15,
   "metadata": {},
   "outputs": [
    {
     "name": "stdout",
     "output_type": "stream",
     "text": [
      "1\n",
      "29\n"
     ]
    }
   ],
   "source": [
    "# Cleaned up code. \n",
    "# Student class will inherit from Person class\n",
    "# Create Person and Student classes with inheritance\n",
    "# Student class inherits from Person class\n",
    "\n",
    "CURRENT_YEAR = 2019\n",
    "\n",
    "class Person():\n",
    "    \n",
    "    def __init__(self, name, year_born):\n",
    "        self.name = name\n",
    "        self.year_born = year_born\n",
    "        \n",
    "    def getAge(self):\n",
    "        return CURRENT_YEAR - self.year_born\n",
    "    \n",
    "    def __str__(self):\n",
    "        return '{} ({})'.format(self.name, self.getAge())\n",
    "\n",
    "    \n",
    "    \n",
    "\n",
    "class Student(Person):  # Every student is a person. \n",
    "    \n",
    "    def __init__(self, name, year_born):\n",
    "        # Person constructor created to inherit from Person class which is the class you want to inherit from.\n",
    "        Person.__init__(self, name, year_born) # this will call def __init__(self, name, year_born): in Person class.\n",
    "        self.knowledge = 0\n",
    "        \n",
    "    def study(self): \n",
    "        self.knowledge += 1\n",
    "\n",
    "        \n",
    "alice = Student('Alice Smith', 1990)\n",
    "alice.study()\n",
    "print(alice.knowledge)\n",
    "print(alice.getAge())"
   ]
  },
  {
   "cell_type": "code",
   "execution_count": 16,
   "metadata": {},
   "outputs": [
    {
     "name": "stdout",
     "output_type": "stream",
     "text": [
      "1\n",
      "29\n",
      "Glad school is out\n"
     ]
    }
   ],
   "source": [
    "# Cleaned up code. \n",
    "# Student class will inherit from Person class\n",
    "# Create Person and Student classes with inheritance\n",
    "# Student class inherits from Person class\n",
    "\n",
    "CURRENT_YEAR = 2019\n",
    "\n",
    "class Person():\n",
    "    \n",
    "    def __init__(self, name, year_born):\n",
    "        self.name = name\n",
    "        self.year_born = year_born\n",
    "        \n",
    "    def getAge(self):\n",
    "        return CURRENT_YEAR - self.year_born\n",
    "    \n",
    "    def __str__(self):\n",
    "        return '{} ({})'.format(self.name, self.getAge())\n",
    "\n",
    "    \n",
    "    \n",
    "\n",
    "class Student(Person):  # Every student is a person. \n",
    "    \n",
    "    def __init__(self, name, year_born):\n",
    "        # Person constructor created to inherit from Person class which is the class you want to inherit from.\n",
    "        Person.__init__(self, name, year_born) # this will call def __init__(self, name, year_born): in Person class.\n",
    "        self.knowledge = 0\n",
    "        \n",
    "    def study(self): \n",
    "        self.knowledge += 1\n",
    "        \n",
    "    @staticmethod\n",
    "    def schoolends():\n",
    "        return 'Glad school is out'\n",
    "\n",
    "\n",
    "        \n",
    "alice = Student('Alice Smith', 1990)\n",
    "alice.study()\n",
    "print(alice.knowledge)\n",
    "print(alice.getAge())\n",
    "print(alice.schoolends())"
   ]
  },
  {
   "cell_type": "code",
   "execution_count": 17,
   "metadata": {},
   "outputs": [
    {
     "name": "stdout",
     "output_type": "stream",
     "text": [
      "Equal\n"
     ]
    }
   ],
   "source": [
    "class Dates:\n",
    "    def __init__(self, date):\n",
    "        self.date = date\n",
    "        \n",
    "    def getDate(self):\n",
    "        return self.date\n",
    "\n",
    "    @staticmethod   # decorator for static method\n",
    "    def toDashDate(date):\n",
    "        return date.replace(\"/\", \"-\")\n",
    "\n",
    "date = Dates(\"15-12-2016\")\n",
    "dateFromDB = \"15/12/2016\"\n",
    "dateWithDash = Dates.toDashDate(dateFromDB)\n",
    "\n",
    "if(date.getDate() == dateWithDash):\n",
    "    print(\"Equal\")\n",
    "else:\n",
    "    print(\"Unequal\")"
   ]
  },
  {
   "cell_type": "code",
   "execution_count": null,
   "metadata": {},
   "outputs": [],
   "source": []
  }
 ],
 "metadata": {
  "kernelspec": {
   "display_name": "Python 3",
   "language": "python",
   "name": "python3"
  },
  "language_info": {
   "codemirror_mode": {
    "name": "ipython",
    "version": 3
   },
   "file_extension": ".py",
   "mimetype": "text/x-python",
   "name": "python",
   "nbconvert_exporter": "python",
   "pygments_lexer": "ipython3",
   "version": "3.6.7"
  }
 },
 "nbformat": 4,
 "nbformat_minor": 2
}
