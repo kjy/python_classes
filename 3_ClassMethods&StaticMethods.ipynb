{
 "cells": [
  {
   "cell_type": "code",
   "execution_count": 3,
   "metadata": {},
   "outputs": [
    {
     "name": "stdout",
     "output_type": "stream",
     "text": [
      "1.04\n",
      "1.04\n",
      "1.04\n"
     ]
    }
   ],
   "source": [
    "class Employee():\n",
    "    \n",
    "    # create a calss variable\n",
    "    num_of_emps = 0\n",
    "    \n",
    "    # create a class variable set to 4% raise\n",
    "    raise_amt = 1.04\n",
    "    \n",
    "    def __init__(self, first, last, pay):\n",
    "        self.first = first\n",
    "        self.last = last\n",
    "        self.pay = pay\n",
    "        self.email = first + '.' +  last + '@company.com'\n",
    "        \n",
    "        Employee.num_of_emps += 1\n",
    "            \n",
    "    def fullname(self):   # use self as argument for method, you will get a type error if you forget self\n",
    "        return '{} {}'.format(self.first, self.last)\n",
    "    \n",
    "\n",
    "    def apply_raise(self):\n",
    "        self.pay = int(self.pay * self.raise_amt)  \n",
    "        \n",
    "    @classmethod     # class decorator, alter the functionality for our method\n",
    "    def set_raise_amt(cls, amount):   # receive class, cls, as first argument as opposed to instance (self)\n",
    "        cls.raise_amt = amount\n",
    "        \n",
    "        \n",
    "        \n",
    "emp_1 = Employee('Jane', 'Doe', 50000)\n",
    "emp_2 = Employee('Test', 'User', 60000) \n",
    "\n",
    "# We are working with the class as opposed to the instance\n",
    "print(Employee.raise_amt)\n",
    "print(emp_1.raise_amt)\n",
    "print(emp_2.raise_amt)"
   ]
  },
  {
   "cell_type": "code",
   "execution_count": 5,
   "metadata": {},
   "outputs": [
    {
     "name": "stdout",
     "output_type": "stream",
     "text": [
      "1.05\n",
      "1.05\n",
      "1.05\n"
     ]
    }
   ],
   "source": [
    "Employee.set_raise_amt(1.05)\n",
    "\n",
    "\n",
    "print(Employee.raise_amt)\n",
    "print(emp_1.raise_amt)\n",
    "print(emp_2.raise_amt)"
   ]
  },
  {
   "cell_type": "code",
   "execution_count": 8,
   "metadata": {},
   "outputs": [
    {
     "name": "stdout",
     "output_type": "stream",
     "text": [
      "1.06\n",
      "1.06\n",
      "1.06\n"
     ]
    }
   ],
   "source": [
    "emp_1.set_raise_amt(1.06)\n",
    "\n",
    "print(Employee.raise_amt)\n",
    "print(emp_1.raise_amt)\n",
    "print(emp_2.raise_amt)"
   ]
  },
  {
   "cell_type": "code",
   "execution_count": null,
   "metadata": {},
   "outputs": [],
   "source": [
    "# New example"
   ]
  },
  {
   "cell_type": "code",
   "execution_count": 18,
   "metadata": {},
   "outputs": [
    {
     "name": "stdout",
     "output_type": "stream",
     "text": [
      "John\n",
      "Doe\n",
      "70000\n",
      "John.Doe@company.com\n",
      "70000\n"
     ]
    }
   ],
   "source": [
    "# employee information in the form of a string, need to parse it first before creating instances.\n",
    "emp_str_1 = 'John-Doe-70000'\n",
    "emp_str_2 = 'Jane-Doe-80000'\n",
    "emp_str_3 = 'Baby-Doe-40000'\n",
    "\n",
    "first, last, pay = emp_str_1.split('-')\n",
    "print(first)\n",
    "print(last)\n",
    "print(pay)\n",
    "\n",
    "# create a new employee instance\n",
    "new_emp_1 = Employee(first, last, pay)\n",
    "print(new_emp_1.email)\n",
    "print(new_emp_1.pay)\n"
   ]
  },
  {
   "cell_type": "code",
   "execution_count": 21,
   "metadata": {},
   "outputs": [
    {
     "name": "stdout",
     "output_type": "stream",
     "text": [
      "John.Doe@company.com\n",
      "70000\n"
     ]
    }
   ],
   "source": [
    "# Now put the above parsing into the body of the code as a classmethod\n",
    "class Employee():\n",
    "    \n",
    "    # create a calss variable\n",
    "    num_of_emps = 0\n",
    "    \n",
    "    # create a class variable set to 4% raise\n",
    "    raise_amt = 1.04\n",
    "    \n",
    "    def __init__(self, first, last, pay):\n",
    "        self.first = first\n",
    "        self.last = last\n",
    "        self.pay = pay\n",
    "        self.email = first + '.' +  last + '@company.com'\n",
    "        \n",
    "        Employee.num_of_emps += 1\n",
    "            \n",
    "    def fullname(self):   # use self as argument for method, you will get a type error if you forget self\n",
    "        return '{} {}'.format(self.first, self.last)\n",
    "    \n",
    "\n",
    "    def apply_raise(self):\n",
    "        self.pay = int(self.pay * self.raise_amt)\n",
    "        return cls(first, last, pay)\n",
    "        \n",
    "        \n",
    "    @classmethod     # class decorator, alter the functionality for our method\n",
    "    def set_raise_amt(cls, amount):   # receive class, cls, as first argument as opposed to instance (self)\n",
    "        cls.raise_amt = amount\n",
    "        \n",
    "    @classmethod   # from string alternative constructor, for class method, first argument is cls\n",
    "    def from_string(cls, emp_str):\n",
    "        first, last, pay = emp_str.split('-')\n",
    "        return cls(first, last, pay)\n",
    "        \n",
    "        \n",
    "#emp_1 = Employee('Jane', 'Doe', 50000)\n",
    "#emp_2 = Employee('Test', 'User', 60000)\n",
    "\n",
    "\n",
    "# employee information in the form of a string, need to parse it first before creating instances.\n",
    "emp_str_1 = 'John-Doe-70000'\n",
    "emp_str_2 = 'Jane-Doe-80000'\n",
    "emp_str_3 = 'Baby-Doe-40000'\n",
    "\n",
    "new_emp_1 = Employee.from_string(emp_str_1)\n",
    "\n",
    "print(new_emp_1.email)\n",
    "print(new_emp_1.pay)"
   ]
  },
  {
   "cell_type": "code",
   "execution_count": 26,
   "metadata": {},
   "outputs": [
    {
     "name": "stdout",
     "output_type": "stream",
     "text": [
      "False\n",
      "True\n"
     ]
    }
   ],
   "source": [
    "# static method behave like regular functions, @staticmethod\n",
    "# do not use self as first argument\n",
    "\n",
    "class Employee():\n",
    "    \n",
    "    # create a calss variable\n",
    "    num_of_emps = 0\n",
    "    \n",
    "    # create a class variable set to 4% raise\n",
    "    raise_amt = 1.04\n",
    "    \n",
    "    def __init__(self, first, last, pay):\n",
    "        self.first = first\n",
    "        self.last = last\n",
    "        self.pay = pay\n",
    "        self.email = first + '.' +  last + '@company.com'\n",
    "        \n",
    "        Employee.num_of_emps += 1\n",
    "            \n",
    "    def fullname(self):   # use self as argument for method, you will get a type error if you forget self\n",
    "        return '{} {}'.format(self.first, self.last)\n",
    "    \n",
    "\n",
    "    def apply_raise(self):\n",
    "        self.pay = int(self.pay * self.raise_amt)\n",
    "        return cls(first, last, pay)\n",
    "        \n",
    "        \n",
    "    @classmethod     # class decorator, alter the functionality for our method\n",
    "    def set_raise_amt(cls, amount):   # receive class, cls, as first argument as opposed to instance (self)\n",
    "        cls.raise_amt = amount\n",
    "        \n",
    "    @classmethod   # from string alternative constructor, for class method, first argument is cls\n",
    "    def from_string(cls, emp_str):\n",
    "        first, last, pay = emp_str.split('-')\n",
    "        return cls(first, last, pay)\n",
    "        \n",
    "    @staticmethod    # use staticmethod decorator, don't take instance or class as first argument\n",
    "    def is_workday(day):   # dates in python, 0 = Monday, 6 = Sunday\n",
    "        if day.weekday() == 5 or day.weekday() ==6:\n",
    "            return False\n",
    "        return True\n",
    "        \n",
    "#emp_1 = Employee('Jane', 'Doe', 50000)\n",
    "#emp_2 = Employee('Test', 'User', 60000)\n",
    "\n",
    "\n",
    "import datetime\n",
    "my_date = datetime.date(2016, 7, 10)  # Sunday\n",
    "print(Employee.is_workday(my_date))\n",
    "my_date = datetime.date(2016, 7, 11)  # Monday\n",
    "print(Employee.is_workday(my_date))\n"
   ]
  },
  {
   "cell_type": "code",
   "execution_count": null,
   "metadata": {},
   "outputs": [],
   "source": []
  }
 ],
 "metadata": {
  "kernelspec": {
   "display_name": "Python 3",
   "language": "python",
   "name": "python3"
  },
  "language_info": {
   "codemirror_mode": {
    "name": "ipython",
    "version": 3
   },
   "file_extension": ".py",
   "mimetype": "text/x-python",
   "name": "python",
   "nbconvert_exporter": "python",
   "pygments_lexer": "ipython3",
   "version": "3.6.7"
  }
 },
 "nbformat": 4,
 "nbformat_minor": 2
}
