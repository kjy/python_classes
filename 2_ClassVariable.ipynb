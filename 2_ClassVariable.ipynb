{
 "cells": [
  {
   "cell_type": "code",
   "execution_count": 1,
   "metadata": {},
   "outputs": [
    {
     "name": "stdout",
     "output_type": "stream",
     "text": [
      "50000\n",
      "52000\n"
     ]
    }
   ],
   "source": [
    "# use class constructor and create attribute variables of class\n",
    "# create a method\n",
    "\n",
    "class Employee():\n",
    "    def __init__(self, first, last, pay):\n",
    "        self.first = first\n",
    "        self.last = last\n",
    "        self.pay = pay\n",
    "        self.email = first + '.' +  last + '@company.com'\n",
    "            \n",
    "    def fullname(self):   # use self as argument for method, you will get a type error if you forget self\n",
    "        return '{} {}'.format(self.first, self.last)\n",
    "    \n",
    "    # Pay raise amount of 4% is hardcoded in method, which makes it difficult to udpate\n",
    "    def apply_raise(self):\n",
    "        self.pay = int(self.pay * 1.04)\n",
    "    \n",
    "emp_1 = Employee('Jane', 'Doe', 50000)\n",
    "emp_2 = Employee('Test', 'User', 60000)    \n",
    "\n",
    "print(emp_1.pay)\n",
    "emp_1.apply_raise()\n",
    "print(emp_1.pay)\n",
    "\n",
    "# Can't see the following:\n",
    "# emp_1.raise_amount\n",
    "# Employee.raise_amount\n",
    "\n",
    "# What if you want to modify raise amount? Don't want to change in multiple locations of code"
   ]
  },
  {
   "cell_type": "code",
   "execution_count": null,
   "metadata": {},
   "outputs": [],
   "source": [
    "# What data do you want to share amongst all employees? Raises.\n"
   ]
  },
  {
   "cell_type": "code",
   "execution_count": 7,
   "metadata": {},
   "outputs": [
    {
     "name": "stdout",
     "output_type": "stream",
     "text": [
      "1.04\n",
      "1.04\n",
      "1.04\n",
      "{'first': 'Jane', 'last': 'Doe', 'pay': 50000, 'email': 'Jane.Doe@company.com'}\n",
      "{'__module__': '__main__', 'raise_amount': 1.04, '__init__': <function Employee.__init__ at 0x104da5bf8>, 'fullname': <function Employee.fullname at 0x104da5e18>, 'apply_raise': <function Employee.apply_raise at 0x104da5d90>, '__dict__': <attribute '__dict__' of 'Employee' objects>, '__weakref__': <attribute '__weakref__' of 'Employee' objects>, '__doc__': None}\n"
     ]
    }
   ],
   "source": [
    "# use class constructor and create attribute variables of class\n",
    "# create a method\n",
    "\n",
    "class Employee():\n",
    "    \n",
    "    # create a variable\n",
    "    raise_amount = 1.04\n",
    "    \n",
    "    def __init__(self, first, last, pay):\n",
    "        self.first = first\n",
    "        self.last = last\n",
    "        self.pay = pay\n",
    "        self.email = first + '.' +  last + '@company.com'\n",
    "            \n",
    "    def fullname(self):   # use self as argument for method, you will get a type error if you forget self\n",
    "        return '{} {}'.format(self.first, self.last)\n",
    "    \n",
    "\n",
    "    def apply_raise(self):\n",
    "        self.pay = int(self.pay * self.raise_amount)  # NameError: name 'raise_amount' is not defined\n",
    "    \n",
    "emp_1 = Employee('Jane', 'Doe', 50000)\n",
    "emp_2 = Employee('Test', 'User', 60000)    \n",
    "\n",
    "print(Employee.raise_amount)\n",
    "print(emp_1.raise_amount)\n",
    "print(emp_2.raise_amount)\n",
    "\n",
    "print(emp_1.__dict__)\n",
    "print(Employee.__dict__)\n",
    "#emp_1.apply_raise()\n",
    "#print(emp_1.pay)\n",
    "\n",
    "# Can't see the following:\n",
    "# emp_1.raise_amount\n",
    "# Employee.raise_amount"
   ]
  },
  {
   "cell_type": "code",
   "execution_count": 8,
   "metadata": {},
   "outputs": [
    {
     "name": "stdout",
     "output_type": "stream",
     "text": [
      "1.05\n",
      "1.05\n",
      "1.05\n"
     ]
    }
   ],
   "source": [
    "Employee.raise_amount = 1.05\n",
    "\n",
    "# It changed the raise amount for the class and for all of the instances.\n",
    "print(Employee.raise_amount)\n",
    "print(emp_1.raise_amount)\n",
    "print(emp_2.raise_amount)"
   ]
  },
  {
   "cell_type": "code",
   "execution_count": 9,
   "metadata": {},
   "outputs": [
    {
     "name": "stdout",
     "output_type": "stream",
     "text": [
      "1.05\n",
      "1.06\n",
      "1.05\n"
     ]
    }
   ],
   "source": [
    "emp_1.raise_amount = 1.06\n",
    "\n",
    "# It only changed the raise amount for employee 1 only in its namespace\n",
    "print(Employee.raise_amount)\n",
    "print(emp_1.raise_amount)\n",
    "print(emp_2.raise_amount)"
   ]
  },
  {
   "cell_type": "code",
   "execution_count": 10,
   "metadata": {},
   "outputs": [
    {
     "name": "stdout",
     "output_type": "stream",
     "text": [
      "2\n"
     ]
    }
   ],
   "source": [
    "\n",
    "\n",
    "class Employee():\n",
    "    \n",
    "    # create a calss variable\n",
    "    num_of_emps = 0\n",
    "    \n",
    "    # create a class variable\n",
    "    raise_amount = 1.04\n",
    "    \n",
    "    def __init__(self, first, last, pay):\n",
    "        self.first = first\n",
    "        self.last = last\n",
    "        self.pay = pay\n",
    "        self.email = first + '.' +  last + '@company.com'\n",
    "        \n",
    "        Employee.num_of_emps += 1\n",
    "            \n",
    "    def fullname(self):   # use self as argument for method, you will get a type error if you forget self\n",
    "        return '{} {}'.format(self.first, self.last)\n",
    "    \n",
    "\n",
    "    def apply_raise(self):\n",
    "        self.pay = int(self.pay * self.raise_amount)  # NameError: name 'raise_amount' is not defined\n",
    "        \n",
    "emp_1 = Employee('Jane', 'Doe', 50000)\n",
    "emp_2 = Employee('Test', 'User', 60000) \n",
    "\n",
    "print(Employee.num_of_emps)   \n",
    "# It will increment twice for 2 instantiation"
   ]
  },
  {
   "cell_type": "code",
   "execution_count": null,
   "metadata": {},
   "outputs": [],
   "source": []
  }
 ],
 "metadata": {
  "kernelspec": {
   "display_name": "Python 3",
   "language": "python",
   "name": "python3"
  },
  "language_info": {
   "codemirror_mode": {
    "name": "ipython",
    "version": 3
   },
   "file_extension": ".py",
   "mimetype": "text/x-python",
   "name": "python",
   "nbconvert_exporter": "python",
   "pygments_lexer": "ipython3",
   "version": "3.6.7"
  }
 },
 "nbformat": 4,
 "nbformat_minor": 2
}
